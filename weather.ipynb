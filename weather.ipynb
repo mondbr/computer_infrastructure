{
 "cells": [
  {
   "cell_type": "markdown",
   "metadata": {},
   "source": [
    "************************\n",
    "*Task 08 of the assessment*\n",
    "************************\n",
    "\n",
    "This notebook contains a brief report explaining how completed Tasks 1 to 7 were completed. \n"
   ]
  },
  {
   "cell_type": "markdown",
   "metadata": {},
   "source": [
    "To create this notebook I used command line in GitHub Codespace with the following command:\n"
   ]
  },
  {
   "cell_type": "code",
   "execution_count": null,
   "metadata": {
    "vscode": {
     "languageId": "plaintext"
    }
   },
   "outputs": [],
   "source": [
    "bash\n",
    "\n",
    "@mondbr ➜ /workspaces/computer_infrastructure (main) $ touch weather.ipynb"
   ]
  },
  {
   "cell_type": "markdown",
   "metadata": {},
   "source": [
    "This command is commonly used o create an empty file."
   ]
  },
  {
   "cell_type": "markdown",
   "metadata": {},
   "source": [
    "#### Completion of Task 1: Create Directory Structure: \n",
    "***************************\n",
    "\n",
    "*Using the command line, create a directory (that is, a folder) named `data` at the root of your repository.*\n",
    "*Inside `data`, create two subdirectories: `timestamps` and `weather`*\n"
   ]
  },
  {
   "cell_type": "markdown",
   "metadata": {},
   "source": [
    "To create a folder and its subfolders I will use the following command:"
   ]
  },
  {
   "cell_type": "markdown",
   "metadata": {},
   "source": [
    "bash\n",
    "\n",
    "$ mkdir -p data/weather"
   ]
  },
  {
   "cell_type": "markdown",
   "metadata": {},
   "source": [
    "The above command uses additional option `-p` or `--parents` which creates a subfolder, but also a parent folder if it's not already exising"
   ]
  },
  {
   "cell_type": "markdown",
   "metadata": {},
   "source": [
    "Alternatively I could use individual commands to create main folder and then each subfolder using `mkdir` + folder name. It is an easy way however this is not very efficient if you need to create a chain for subfolders, ie. a number of subfolders one in another. "
   ]
  },
  {
   "cell_type": "markdown",
   "metadata": {},
   "source": [
    "To create second folder from the task 1, I will repeat the same excercise. I don't need to enter the entire command - by using up arrow key the prevoius command appeared, so I edited the last part with new folder name:  "
   ]
  },
  {
   "cell_type": "code",
   "execution_count": null,
   "metadata": {
    "vscode": {
     "languageId": "plaintext"
    }
   },
   "outputs": [],
   "source": [
    "bash\n",
    "\n",
    "$ mkdir -p data/timestamps"
   ]
  },
  {
   "cell_type": "markdown",
   "metadata": {},
   "source": [
    "My first attempt to push data folder into my GitHub repository wans't succesful and the folder was not added. Firstly, I checked my .gitignore file to see if I have any file with that name (using CTRL+F) in there which might simply omit this file.\n",
    "\n",
    "To succeslully push this folder into my GitHub repository I needed to create a file inside my `data` folder as Visual Studio Code will not pickup folder with no files. "
   ]
  }
 ],
 "metadata": {
  "language_info": {
   "name": "python"
  }
 },
 "nbformat": 4,
 "nbformat_minor": 2
}
