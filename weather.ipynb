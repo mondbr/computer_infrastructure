{
 "cells": [
  {
   "cell_type": "markdown",
   "metadata": {},
   "source": [
    "# Task 08 of the assessment\n",
    "************************\n",
    "\n",
    " ## This section contains a brief report explaining how Tasks 1 to 7 were completed. \n",
    "\n",
    " *Create a notebook called weather.ipynb at the root of your repository. In this notebook, write a brief report explaining how you completed Tasks 1 to 7. Provide short descriptions of the commands used in each task and explain their role in completing the tasks.*\n",
    "\n",
    " ***\n"
   ]
  },
  {
   "cell_type": "markdown",
   "metadata": {},
   "source": [
    "To complete all tasks I used command line in GitHub CodeSpace using `bash` commands. \n"
   ]
  },
  {
   "cell_type": "markdown",
   "metadata": {},
   "source": [
    "To create this notebook I used the following:"
   ]
  },
  {
   "cell_type": "markdown",
   "metadata": {},
   "source": [
    "```bash\n",
    "# Prompt\n",
    "@mondbr ➜/workspaces/computer_infrastructure (main) $ \n",
    "\n",
    "# Command\n",
    "touch weather.ipynb"
   ]
  },
  {
   "cell_type": "markdown",
   "metadata": {},
   "source": [
    "Command `touch` is a fundamental tool used primarily for creating empty files and updating the timestamps of existing files <sup>[1](https://www.serveracademy.com/blog/how-to-use-the-touch-command-in-linux/)</sup>"
   ]
  },
  {
   "cell_type": "markdown",
   "metadata": {},
   "source": [
    "***\n",
    "*Completion of Task 1: Create Directory Structure:* \n",
    "***\n",
    "\n",
    "*Using the command line, create a directory (that is, a folder) named `data` at the root of your repository.*\n",
    "*Inside `data`, create two subdirectories: `timestamps` and `weather`*.\n",
    "\n",
    "***"
   ]
  },
  {
   "cell_type": "markdown",
   "metadata": {},
   "source": [
    "To create a directory and its subdirectory I will use the following `bash` command:"
   ]
  },
  {
   "cell_type": "markdown",
   "metadata": {},
   "source": [
    "```bash\n",
    "@mondbr ➜ /workspaces/computer_infrastructure (main) $ mkdir -p data/weather"
   ]
  },
  {
   "cell_type": "markdown",
   "metadata": {},
   "source": [
    "The above command uses additional option `-p` or `--parents` which creates a subfolder, but also a parent folder if it's not already existing."
   ]
  },
  {
   "cell_type": "markdown",
   "metadata": {},
   "source": [
    "Alternatively, I could use individual commands to create main folder, and then each subfolder using `mkdir` + `folder name`. It is an easy way, however this is not very efficient if you need to create a chain for subfolders, i.e. a number of subfolders, one in another. "
   ]
  },
  {
   "cell_type": "markdown",
   "metadata": {},
   "source": [
    "To create `timestamps` directory, I navigated to `data` subdirectory from my main directory using `cd` command:"
   ]
  },
  {
   "cell_type": "markdown",
   "metadata": {},
   "source": [
    "```bash\n",
    "@mondbr ➜ /workspaces/computer_infrastructure (main) $ cd data/"
   ]
  },
  {
   "cell_type": "markdown",
   "metadata": {},
   "source": [
    "To create second folder from the task 1, I used command `mkdir`: "
   ]
  },
  {
   "cell_type": "markdown",
   "metadata": {},
   "source": [
    "```bash\n",
    "@mondbr ➜ /workspaces/computer_infrastructure/data (main) $ mkdir 'timestamps'"
   ]
  },
  {
   "cell_type": "markdown",
   "metadata": {},
   "source": [
    "My first attempt to push data folder into my GitHub repository wans't succesful, and the direcotry was not added. Firstly, I checked my .gitignore file to see if I have any file with that name (using CTRL+F) in there which might simply omit this file.\n",
    "\n",
    "To succesfully push this folder into my GitHub repository I needed to create a file inside my `data` folder as Visual Studio Code will not pickup folder with no files. I created `test.md` file. \n",
    "After creating other files required for this assessment, I removed that file from this directory using `rm` command:"
   ]
  },
  {
   "cell_type": "markdown",
   "metadata": {},
   "source": [
    "```bash \n",
    "@mondbr ➜ /workspaces/computer_infrastructure/data/weather (main) $ rm test.md "
   ]
  },
  {
   "cell_type": "markdown",
   "metadata": {},
   "source": [
    "***\n",
    "*Completion of Task 2: Timestamps:* \n",
    "***\n",
    "\n",
    "*Navigate to the `data/timestamps` directory. Use the `date` command to output the current date and time, appending the output to a file named `now.txt`. Make sure to use the `>>` operator to append (not overwrite) the file. Repeat this step ten times, then use the more command to verify that now.txt has the expected content.*\n",
    "\n",
    "***"
   ]
  },
  {
   "cell_type": "markdown",
   "metadata": {},
   "source": [
    "To navigate to `data/timestamps` subdirectory I used the following command in `bash`:"
   ]
  },
  {
   "cell_type": "markdown",
   "metadata": {},
   "source": [
    "```bash\n",
    "@mondbr ➜/workspaces/computer_infrastructure (main) $ cd data/timestamps/\n"
   ]
  },
  {
   "cell_type": "markdown",
   "metadata": {},
   "source": [
    "To output the current date and time i used command `date` that prints or sets the system date and time."
   ]
  },
  {
   "cell_type": "markdown",
   "metadata": {},
   "source": [
    "```bash\n",
    "@mondbr ➜ /workspaces/computer_infrastructure/data/timestamps (main) $ date"
   ]
  },
  {
   "cell_type": "markdown",
   "metadata": {},
   "source": [
    "And the output is: "
   ]
  },
  {
   "cell_type": "markdown",
   "metadata": {},
   "source": [
    "`Sat Nov 16 11:06:49 UTC 2024`"
   ]
  },
  {
   "cell_type": "markdown",
   "metadata": {},
   "source": [
    "\n",
    "I can customize the format in which the date and time are printed. I use the `+` after the `date` command to indicate that the following text is a format string for customizing the output."
   ]
  },
  {
   "cell_type": "markdown",
   "metadata": {},
   "source": [
    "\n",
    "Now, I need to write a command that displays the date in a specific format. To view the full list of format specifiers, I used the `man` `date` command, which showed me the format directives I can use to print the date in my desired format.\n",
    "\n",
    "Here I set up date as **year/month/day** format (separated with forward slash) followed by a space, and then **hour:minute:second** separated by a colon. \n",
    " "
   ]
  },
  {
   "cell_type": "markdown",
   "metadata": {},
   "source": [
    "Below is the description of the placeholder used by the `date` command to specify how to format the output that I used. The full list can be checked after executing `man` `date` command:"
   ]
  },
  {
   "cell_type": "markdown",
   "metadata": {},
   "source": [
    "|Directive | Meaning |\n",
    "| --- | --- |\n",
    "| `%Y` | Year with century as a decimal number  |\n",
    "| `%m` | Month as zero-padded decimal number [01, 02, ..., 11, 12] |\n",
    "| `%d` | Day of the month as a zero-padded decimal number [01, 02, ..., 30, 31] |\n",
    "| `%H` | Hour (24-hour clock) as a zero-padded decimal number [00, 01, ..., 22, 23] |\n",
    "| `%M` | Minute as a zero-padded decimal number [00, 01, ..., 58, 59]|\n",
    "| `%S` | Second as a zero-padded decimal number [00, 01, ..., 58, 59]|\n",
    "\n",
    "\n"
   ]
  },
  {
   "cell_type": "markdown",
   "metadata": {},
   "source": [
    "The `>>` operator is used to append to a file which is needed if I want to add more entries into the file rather to overwrite it.  <sup>[2](https://serverfault.com/questions/196734/bash-difference-between-and-operator)</sup>.\n",
    " \n",
    "The `>` operator overwrites the file if it exists or creates it if it doesn't exist."
   ]
  },
  {
   "cell_type": "markdown",
   "metadata": {},
   "source": [
    "After that, I am typing a file name `now` followed by `.txt` format to save the output to my text file. Because the file does not exist yet, it will be created after the command is executed. "
   ]
  },
  {
   "cell_type": "markdown",
   "metadata": {},
   "source": [
    "```bash\n",
    "@mondbr ➜ /workspaces/computer_infrastructure/data/timestamps (main) $ date +'%Y/%m/%d/ %H:%M:%S' >>now.txt"
   ]
  },
  {
   "cell_type": "markdown",
   "metadata": {},
   "source": [
    "Let see if the file was created.  I am using the `ls` command that lists the files in your current directory <sup>[3](https://www.charmm-gui.org/?doc=lecture&module=unix&lesson=2)</sup> :"
   ]
  },
  {
   "cell_type": "markdown",
   "metadata": {},
   "source": [
    "```bash\n",
    "@mondbr ➜ /workspaces/computer_infrastructure/data/timestamps (main) $ ls"
   ]
  },
  {
   "cell_type": "markdown",
   "metadata": {},
   "source": [
    "The output is:"
   ]
  },
  {
   "cell_type": "markdown",
   "metadata": {},
   "source": [
    "`now.txt`"
   ]
  },
  {
   "cell_type": "markdown",
   "metadata": {},
   "source": [
    "To check if my output (in this situation time and date) is successfully saved, I use `more` command that will show me the content of a file. This command allow to view one screen at a time. If the file is longer, we can navigate to see more. <sup>[4](https://www.geeksforgeeks.org/more-command-in-linux-with-examples/)</sup>\n",
    "\n",
    "- *Scroll Down:* Press the Space bar to move down by one page.\n",
    "- *Scroll Up:* Press the b key to move up by one page.\n",
    "- *Scroll Line* by Line: Press the Enter key to scroll down one line at a time.\n",
    "- *Search:* Press / and then type the string you want to search for, then press Enter to search forward.\n",
    "- *Quit:* Press q to quit and exit the more command.\n",
    "\n"
   ]
  },
  {
   "cell_type": "markdown",
   "metadata": {},
   "source": [
    "```bash\n",
    "@mondbr ➜ /workspaces/computer_infrastructure/data/timestamps (main) $ more now.txt"
   ]
  },
  {
   "cell_type": "markdown",
   "metadata": {},
   "source": [
    "The output is:"
   ]
  },
  {
   "cell_type": "markdown",
   "metadata": {},
   "source": [
    "`2024/11/16/ 11:33:24`"
   ]
  },
  {
   "cell_type": "markdown",
   "metadata": {},
   "source": [
    "Now, to complete the task 02, I need to repeat the `date + ...` command 10 more times. If my command worked correctly, I should have multiple outputs saved in my `now.txt` file each entry should show the exact date and time when each command was run. I don't need to write a whole command again. I am using *↑* in my terminal to look up for the prevoiusly used commands and I can use them again. "
   ]
  },
  {
   "cell_type": "markdown",
   "metadata": {},
   "source": [
    "```bash\n",
    "@mondbr ➜ /workspaces/computer_infrastructure/data/timestamps (main) $ date +'%Y/%m/%d/ %H:%M:%S' >>now.txt"
   ]
  },
  {
   "cell_type": "markdown",
   "metadata": {},
   "source": [
    "Let's see the output after running the above 10 more times. It was run every few seconds, so the only last values are changing. "
   ]
  },
  {
   "cell_type": "markdown",
   "metadata": {},
   "source": [
    "```bash\n",
    "@mondbr ➜ /workspaces/computer_infrastructure/data/timestamps (main) $ more now.txt \n",
    "2024/11/16/ 11:33:24\n",
    "2024/11/16/ 11:39:10\n",
    "2024/11/16/ 11:39:18\n",
    "2024/11/16/ 11:39:23\n",
    "2024/11/16/ 11:39:24\n",
    "2024/11/16/ 11:39:28\n",
    "2024/11/16/ 11:39:34\n",
    "2024/11/16/ 11:39:39\n",
    "2024/11/16/ 11:39:44\n",
    "2024/11/16/ 11:39:47\n",
    "2024/11/16/ 11:39:49"
   ]
  },
  {
   "cell_type": "markdown",
   "metadata": {},
   "source": [
    "***\n",
    "*Completion of Task 3: Formatting Timestamps:* \n",
    "***\n",
    "\n",
    "*Run the `date` command again, but this time format the output using `YYYYmmdd_HHMMSS` (e.g., `20261114_130003` for 1:00:03 PM on November 14, 2026). Refer to the `date` man page (using man date) for more formatting options. (Press q to exit the man page). Append the formatted output to a file named `formatted.txt.`*\n",
    "\n",
    "***"
   ]
  },
  {
   "cell_type": "markdown",
   "metadata": {},
   "source": [
    "To get the date in the `YYYYmmdd_HHMMSS` format for a specific date **1:00:03 PM on November 14, 2026**, I need to modify my date command as follows:"
   ]
  },
  {
   "cell_type": "markdown",
   "metadata": {},
   "source": [
    "```bash\n",
    "@mondbr ➜ /workspaces/computer_infrastructure/data/timestamps (main) $ date -d \"2026-11-14 13:00:03\" +'%Y%m%d_%H%M%S' >> formatted.txt"
   ]
  },
  {
   "cell_type": "markdown",
   "metadata": {},
   "source": [
    "I used `-d \"2026-11-14 13:00:03\"` that specifies the custom date and time (November 14, 2026, 1:00:03 PM). The `-d` option tells the `date` command to interpret and format the date and time user provide, rather than the current system date and time."
   ]
  },
  {
   "cell_type": "markdown",
   "metadata": {},
   "source": [
    "The output is saved now in newly created `formatted.txt` file which I can check by using `cat` command that shows all the contents on the file. "
   ]
  },
  {
   "cell_type": "markdown",
   "metadata": {},
   "source": [
    "```bash\n",
    "@mondbr ➜ /workspaces/computer_infrastructure/data/timestamps (main) $ cat formatted.txt "
   ]
  },
  {
   "cell_type": "markdown",
   "metadata": {},
   "source": [
    "The output is:"
   ]
  },
  {
   "cell_type": "markdown",
   "metadata": {},
   "source": [
    "`20261114_130003`"
   ]
  },
  {
   "cell_type": "markdown",
   "metadata": {},
   "source": [
    "***\n",
    "*Completion of Task 4: Create Timestamped Files* \n",
    "***\n",
    "\n",
    "*Use the `touch` command to create an empty file with a name in the `YYYYmmdd_HHMMSS.txt` format. You can achieve this by embedding your `date` command in backticks ` into the `touch` command. You should no longer use redirection (>>) in this step.*\n",
    "\n",
    "***"
   ]
  },
  {
   "cell_type": "markdown",
   "metadata": {},
   "source": [
    "As the goal is to create an empty file with a file name in the `YYYYmmdd_HHMMSS.txt` format I need to use the `date` command to generate the current date and time in the specified format `%Y%m%d_%H%M%S`, and embed it in backticks, as this allow me to create the file name as at runtime. "
   ]
  },
  {
   "cell_type": "markdown",
   "metadata": {},
   "source": [
    "```bash\n",
    "@mondbr ➜ /workspaces/computer_infrastructure/data/timestamps (main) $ touch `date +'%Y%m%d_%H%M%S'`.txt\n"
   ]
  },
  {
   "cell_type": "markdown",
   "metadata": {},
   "source": [
    "Now I want to verify the file creation. After running the `touch` command (and not using redirection `>>`), the new file will be created with the timestamped name in my directory. To check this, I use `ls` command to list the files:\n",
    "\n"
   ]
  },
  {
   "cell_type": "markdown",
   "metadata": {},
   "source": [
    "``` bash\n",
    "@mondbr ➜ /workspaces/computer_infrastructure/data/timestamps (main) $ ls\n"
   ]
  },
  {
   "cell_type": "markdown",
   "metadata": {},
   "source": [
    "Output:"
   ]
  },
  {
   "cell_type": "markdown",
   "metadata": {},
   "source": [
    "`20241116_134743.txt` `formatted.txt` `now.txt`"
   ]
  },
  {
   "cell_type": "markdown",
   "metadata": {},
   "source": [
    "Since the file is empty (created with `touch`), I can use the `more` command to view its content (which will be blank):"
   ]
  },
  {
   "cell_type": "markdown",
   "metadata": {},
   "source": [
    "```bash\n",
    "\n",
    "@mondbr ➜ /workspaces/computer_infrastructure/data/timestamps (main) $ more 20241116_134743.txt"
   ]
  },
  {
   "cell_type": "markdown",
   "metadata": {},
   "source": [
    "***\n",
    "*Completion of Task 5: Download Today's Weather Data* \n",
    "***\n",
    "\n",
    "*Change to the `data/weather` directory. Download the latest weather data for the Athenry weather station from Met Eireann using `wget`. Use the `-O <filename>` option to save the file as `weather.json`. The data can be found at this URL:\n",
    "`https://prodapi.metweb.ie/observations/athenry/today.`*\n",
    "\n",
    "***"
   ]
  },
  {
   "cell_type": "markdown",
   "metadata": {},
   "source": [
    "As my current directory is `@mondbr ➜ /workspaces/computer_infrastructure/data/timestamps`, to navigate to  `data/weather` directory, I need to go back to the parent folder `data` by using `cd ..` command, and then move to subdirectory `weather` using `cd weather/` command. "
   ]
  },
  {
   "cell_type": "markdown",
   "metadata": {},
   "source": [
    "To download the lates weather data or the Athenry weather station from Met Eireann i use `wget` <sup>[3](https://linuxize.com/post/wget-command-examples/)</sup> command. \n",
    "The `wget` package is pre-installed on most Linux distributions today. It is a command-line utility for downloading files from the web. It allows downloading files using HTTP, HTTPS, and FTP protocols.\n",
    "\n",
    "To verify if the `wget` package is installed on my system, I can type `wget` in my terminal (console), and press enter. \n",
    "If the `wget` is installed, the system will print the below:"
   ]
  },
  {
   "cell_type": "markdown",
   "metadata": {},
   "source": [
    "```bash\n",
    "@mondbr ➜ /workspaces/computer_infrastructure/data/weather (main) $ wget\n",
    "\n",
    "wget: missing URL\n",
    "Usage: wget [OPTION]... [URL]...\n",
    "\n",
    "Try `wget --help' for more options."
   ]
  },
  {
   "cell_type": "markdown",
   "metadata": {},
   "source": [
    "If it is not installed, it will print `wget command not found`. \n",
    "\n",
    "This can be installed by executing the following command: \n",
    "`$ sudo apt install wget`"
   ]
  },
  {
   "cell_type": "markdown",
   "metadata": {},
   "source": [
    "As the `wget` is installed, I want to save the data from that URL in my `data/weather` directory. As default, the filename will automatically be set up to `today`. To save the file with specific name, I will use `-O <filename>` where the `<filename>` is `weather.json` <sup>[3](https://linuxize.com/post/wget-command-examples/)</sup> and paste the URL link:"
   ]
  },
  {
   "cell_type": "markdown",
   "metadata": {},
   "source": [
    "```bash\n",
    "@mondbr ➜ /workspaces/computer_infrastructure/data/weather (main) $ wget -O weather.json https://prodapi.metweb.ie/observations/athenry/today\n",
    "--2024-11-17 18:09:40--  https://prodapi.metweb.ie/observations/athenry/today\n",
    "Resolving prodapi.metweb.ie (prodapi.metweb.ie)... 139.162.185.91\n",
    "Connecting to prodapi.metweb.ie (prodapi.metweb.ie)|139.162.185.91|:443... connected.\n",
    "HTTP request sent, awaiting response... 200 OK\n",
    "Length: unspecified [application/json]\n",
    "Saving to: ‘weather.json’\n",
    "\n",
    "weather.json                  [ <=>                                ]   5.26K  --.-KB/s    in 0s      \n",
    "\n",
    "2024-11-17 18:09:41 (720 MB/s) - ‘weather.json’ saved [5388]\n"
   ]
  },
  {
   "cell_type": "markdown",
   "metadata": {},
   "source": [
    "After the above has run, as the result, a new file `weather` has been saved which contains today's weather data in .json format:"
   ]
  },
  {
   "cell_type": "markdown",
   "metadata": {},
   "source": [
    "```bash\n",
    "@mondbr ➜ /workspaces/computer_infrastructure/data/weather (main) $ ls\n",
    "weather.json"
   ]
  },
  {
   "cell_type": "markdown",
   "metadata": {},
   "source": [
    "***\n",
    "*Completion of Task 6: Timestamp the Data* \n",
    "***\n",
    "\n",
    "*Modify the command from Task 5 to save the downloaded file with a timestamped name in the format `YYYYmmdd_HHMMSS.json`.*\n",
    "\n",
    "***"
   ]
  },
  {
   "cell_type": "markdown",
   "metadata": {},
   "source": [
    "To modify the file with the timestamp name, (so the file will be named automatically with the specifically formated date and time of runtime), I will modify the `<filename>` with datetime format `'%Y%m%d_%H%M%S`:"
   ]
  },
  {
   "cell_type": "markdown",
   "metadata": {},
   "source": [
    "```bash\n",
    "\n",
    "@mondbr ➜ /workspaces/computer_infrastructure/data/weather (main) $ wget -O`date +'%Y%m%d_%H%M%S'.json` https://prodapi.metweb.ie/observations/athenry/today\n",
    "--2024-11-17 18:19:17--  https://prodapi.metweb.ie/observations/athenry/today\n",
    "Resolving prodapi.metweb.ie (prodapi.metweb.ie)... 139.162.185.91\n",
    "Connecting to prodapi.metweb.ie (prodapi.metweb.ie)|139.162.185.91|:443... connected.\n",
    "HTTP request sent, awaiting response... 200 OK\n",
    "Length: unspecified [application/json]\n",
    "Saving to: ‘20241117_181917.json’\n",
    "\n",
    "20241117_181917.json          [ <=>                                ]   5.57K  --.-KB/s    in 0s      \n",
    "\n",
    "2024-11-17 18:19:18 (254 MB/s) - ‘20241117_181917.json’ saved [5701]\n"
   ]
  },
  {
   "cell_type": "markdown",
   "metadata": {},
   "source": [
    "Let's verify the output and check the `data/weather` directory to confirm the weather data file `20241117_181917.json` is saved."
   ]
  },
  {
   "cell_type": "markdown",
   "metadata": {},
   "source": [
    "```bash\n",
    "@mondbr ➜ /workspaces/computer_infrastructure/data/weather (main) $ ls\n",
    "20241117_181917.json  weather.json"
   ]
  },
  {
   "cell_type": "markdown",
   "metadata": {},
   "source": [
    "***\n",
    "*Completion of Task 7: Timestamp the Data* \n",
    "***\n",
    "\n",
    "*Write a bash script called `weather.sh` in the root of your repository. This script should automate the process from Task 6, saving the weather data to the `data/weather` directory. Make the script executable and test it by running it.*\n",
    "***"
   ]
  },
  {
   "cell_type": "markdown",
   "metadata": {},
   "source": [
    "I am using `cd ..` to move to the root of my repository. \n",
    "To create the `weather.sh` script I am using `nano` text editor:"
   ]
  },
  {
   "cell_type": "markdown",
   "metadata": {},
   "source": [
    "```bash\n",
    "nano weather.sh\n"
   ]
  },
  {
   "cell_type": "markdown",
   "metadata": {},
   "source": [
    "```bash\n",
    "#! /bin/bash\n",
    "\n",
    "wget -O data/weather/`date +'%Y%m%d_%H%M%S'.json` https://prodapi.metweb.ie/observations/athenry/today"
   ]
  },
  {
   "cell_type": "markdown",
   "metadata": {},
   "source": [
    "I need to change the permissions to make the script executable. To check the permissions I can use  `ls -al` command to see all the files, size, etc (shortcut `ll`)"
   ]
  },
  {
   "cell_type": "markdown",
   "metadata": {},
   "source": [
    "```bash\n",
    "chmod +x weather.sh"
   ]
  },
  {
   "cell_type": "markdown",
   "metadata": {},
   "source": [
    "Now I need to test the script to ensure it gets the weather data and saves it correctly:"
   ]
  },
  {
   "cell_type": "markdown",
   "metadata": {},
   "source": [
    "```bash\n",
    "./weather.sh\n"
   ]
  },
  {
   "cell_type": "markdown",
   "metadata": {},
   "source": [
    "By using `ls` command, let's check the directory to see if the weather data file is saved. If there are issues, I can add `echo` statements or review error messages for troubleshooting."
   ]
  },
  {
   "cell_type": "markdown",
   "metadata": {},
   "source": [
    "```bash\n",
    "@mondbr ➜ /workspaces/computer_infrastructure/data/weather (main) $ ls\n",
    "20241117_181917.json  20241117_190657.json  weather.json"
   ]
  },
  {
   "cell_type": "markdown",
   "metadata": {},
   "source": [
    "# Task 09 of the assessment\n",
    "************************\n",
    "\n",
    "## This section contains a brief report explaining how Tasks 9 was completed \n",
    "\n",
    " *In your `weather.ipynb` notebook, use the pandas function `read_json()` to load in any one of the weather data files you have downloaded with your script. Examine and summarize the data. Use the information provided [data.gov.ie](https://data.gov.ie/dataset/todays-weather-athenry) to write a short explanation of what the data set contains.*\n",
    "\n",
    " ***"
   ]
  },
  {
   "cell_type": "markdown",
   "metadata": {},
   "source": [
    "Let's start with importing nessesary libraries:"
   ]
  },
  {
   "cell_type": "code",
   "execution_count": 16,
   "metadata": {},
   "outputs": [],
   "source": [
    "import pandas as pd\n",
    "import matplotlib.pyplot as plt"
   ]
  },
  {
   "cell_type": "markdown",
   "metadata": {},
   "source": [
    "Read the data:"
   ]
  },
  {
   "cell_type": "code",
   "execution_count": 17,
   "metadata": {},
   "outputs": [
    {
     "name": "stdout",
     "output_type": "stream",
     "text": [
      "       name  temperature symbol weatherDescription      text  windSpeed  \\\n",
      "0   Athenry           12    04n             Cloudy  \"Cloudy\"         11   \n",
      "1   Athenry           12    04n             Cloudy  \"Cloudy\"          9   \n",
      "2   Athenry           11    02n               Fair    \"Fair\"         11   \n",
      "3   Athenry           11    02n               Fair    \"Fair\"          4   \n",
      "4   Athenry           10    02n               Fair    \"Fair\"          7   \n",
      "5   Athenry           11    02n               Fair    \"Fair\"          6   \n",
      "6   Athenry           11    02n               Fair    \"Fair\"         11   \n",
      "7   Athenry           12    02n               Fair    \"Fair\"         13   \n",
      "8   Athenry           12    04d             Cloudy  \"Cloudy\"         17   \n",
      "9   Athenry           12    02d               Fair    \"Fair\"         13   \n",
      "10  Athenry           14    04d             Cloudy  \"Cloudy\"         19   \n",
      "11  Athenry           14    04d             Cloudy  \"Cloudy\"         19   \n",
      "\n",
      "   windGust cardinalWindDirection  windDirection  humidity  rainfall  \\\n",
      "0         -                     S            180        91       0.0   \n",
      "1         -                     S            180        90       0.0   \n",
      "2         -                    SW            225        93       0.0   \n",
      "3         -                     S            180        94       0.0   \n",
      "4         -                    SW            225        96       0.0   \n",
      "5         -                     S            180        95       0.0   \n",
      "6         -                     S            180        94       0.0   \n",
      "7         -                     S            180        92       0.0   \n",
      "8         -                    SE            135        91       0.0   \n",
      "9         -                     S            180        90       0.1   \n",
      "10        -                     S            180        88       0.0   \n",
      "11        -                     S            180        86       0.0   \n",
      "\n",
      "    pressure   dayName       date reportTime  \n",
      "0       1012  Saturday 2024-11-30      00:00  \n",
      "1       1012  Saturday 2024-11-30      01:00  \n",
      "2       1013  Saturday 2024-11-30      02:00  \n",
      "3       1013  Saturday 2024-11-30      03:00  \n",
      "4       1013  Saturday 2024-11-30      04:00  \n",
      "5       1013  Saturday 2024-11-30      05:00  \n",
      "6       1013  Saturday 2024-11-30      06:00  \n",
      "7       1012  Saturday 2024-11-30      07:00  \n",
      "8       1012  Saturday 2024-11-30      08:00  \n",
      "9       1012  Saturday 2024-11-30      09:00  \n",
      "10      1011  Saturday 2024-11-30      10:00  \n",
      "11      1011  Saturday 2024-11-30      11:00  \n"
     ]
    }
   ],
   "source": [
    "df = pd.read_json('data/weather/20241130_114037.json')\n",
    "\n",
    "print(df)"
   ]
  },
  {
   "cell_type": "markdown",
   "metadata": {},
   "source": [
    "Check for NaN values:"
   ]
  },
  {
   "cell_type": "code",
   "execution_count": 18,
   "metadata": {},
   "outputs": [
    {
     "name": "stdout",
     "output_type": "stream",
     "text": [
      "name                     0\n",
      "temperature              0\n",
      "symbol                   0\n",
      "weatherDescription       0\n",
      "text                     0\n",
      "windSpeed                0\n",
      "windGust                 0\n",
      "cardinalWindDirection    0\n",
      "windDirection            0\n",
      "humidity                 0\n",
      "rainfall                 0\n",
      "pressure                 0\n",
      "dayName                  0\n",
      "date                     0\n",
      "reportTime               0\n",
      "dtype: int64\n"
     ]
    }
   ],
   "source": [
    "\n",
    "print(df.isna().sum())"
   ]
  },
  {
   "cell_type": "code",
   "execution_count": 19,
   "metadata": {},
   "outputs": [
    {
     "data": {
      "image/png": "[encoded data removed]",
      "text/plain": [
       "<Figure size 1000x600 with 2 Axes>"
      ]
     },
     "metadata": {},
     "output_type": "display_data"
    }
   ],
   "source": [
    "plt.figure(figsize=(10,6))\n",
    "scatter = plt.scatter(df['reportTime'], df['temperature'], c=df['temperature'], cmap='coolwarm')\n",
    "plt.colorbar(scatter, label = 'Temperature (°C)')\n",
    "plt.plot(df['reportTime'], df['temperature'], color='gray', linewidth=1, alpha=0.6)\n",
    "\n",
    "plt.xlabel('Time')\n",
    "plt.ylabel('Temperature (°C)')\n",
    "plt.title('Temperature changes thorough the day')\n",
    "\n",
    "plt.grid(True)\n",
    "plt.show()\n"
   ]
  },
  {
   "cell_type": "code",
   "execution_count": 20,
   "metadata": {},
   "outputs": [
    {
     "data": {
      "image/png": "[encoded data removed]",
      "text/plain": [
       "<Figure size 1000x500 with 1 Axes>"
      ]
     },
     "metadata": {},
     "output_type": "display_data"
    }
   ],
   "source": [
    "plt.figure(figsize=(10, 5))\n",
    "plt.plot(df['reportTime'], df['windSpeed'], marker='o', label='Wind Speed (km/h)')\n",
    "plt.plot(df['reportTime'], df['humidity'], marker='x', label='Humidity (%)', color='green')\n",
    "plt.title('Wind Speed and Humidity Throughout the Day')\n",
    "plt.xlabel('Time')\n",
    "plt.ylabel('Value')\n",
    "plt.xticks(rotation=45)\n",
    "plt.legend()\n",
    "plt.grid()\n",
    "plt.show()"
   ]
  },
  {
   "cell_type": "code",
   "execution_count": null,
   "metadata": {},
   "outputs": [
    {
     "data": {
      "image/png": "[encoded data removed]",
      "text/plain": [
       "<Figure size 1000x500 with 1 Axes>"
      ]
     },
     "metadata": {},
     "output_type": "display_data"
    }
   ],
   "source": [
    "import seaborn as sns\n",
    "\n",
    "sns.set_theme(style='darkgrid')\n",
    "plt.figure(figsize=(10, 5))\n",
    "sns.lineplot(x='reportTime', y='pressure', data=data, color='blue')\n",
    "plt.title('Pressure Throughout the Day')\n",
    "plt.xlabel('Time')\n",
    "plt.ylabel('Pressure (hPa)')\n",
    "plt.xticks(rotation=45)\n",
    "plt.show()"
   ]
  },
  {
   "cell_type": "markdown",
   "metadata": {},
   "source": [
    "# References:"
   ]
  },
  {
   "cell_type": "markdown",
   "metadata": {},
   "source": [
    "<sup>1</sup> https://www.serveracademy.com/blog/how-to-use-the-touch-command-in-linux\n",
    "\n",
    "<sup>2</sup> https://github.com/trinib/Linux-Bash-Commands\n",
    "\n",
    "<sup>3</sup>https://www.charmm-gui.org/?doc=lecture&module=unix&lesson=2\n",
    "\n",
    "<sup>4</sup> https://www.geeksforgeeks.org/more-command-in-linux-with-examples"
   ]
  },
  {
   "cell_type": "markdown",
   "metadata": {},
   "source": [
    "END\n",
    "***"
   ]
  }
 ],
 "metadata": {
  "kernelspec": {
   "display_name": "Python 3",
   "language": "python",
   "name": "python3"
  },
  "language_info": {
   "codemirror_mode": {
    "name": "ipython",
    "version": 3
   },
   "file_extension": ".py",
   "mimetype": "text/x-python",
   "name": "python",
   "nbconvert_exporter": "python",
   "pygments_lexer": "ipython3",
   "version": "3.12.1"
  }
 },
 "nbformat": 4,
 "nbformat_minor": 2
}
